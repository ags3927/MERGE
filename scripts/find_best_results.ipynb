{
 "cells": [
  {
   "cell_type": "code",
   "execution_count": 1,
   "metadata": {},
   "outputs": [],
   "source": [
    "import json\n",
    "from glob import glob\n",
    "import pandas as pd"
   ]
  },
  {
   "cell_type": "code",
   "execution_count": null,
   "metadata": {},
   "outputs": [],
   "source": [
    "def metrics(results_base_dir, mode='cnn'):\n",
    "    mses = []\n",
    "    maes = []\n",
    "    corrs = []\n",
    "\n",
    "    for i in range(5):\n",
    "        metrics_path = f'{results_base_dir}/{i}/{mode}/results.json'\n",
    "        \n",
    "        # Load metrics\n",
    "        with open(metrics_path, 'r') as f:\n",
    "            metrics = json.load(f)\n",
    "            \n",
    "        mses.append(metrics['mse'])\n",
    "        maes.append(metrics['mae'])\n",
    "        corrs.append(metrics['corr'])\n",
    "        \n",
    "    # Find show the loss and correlation for the least loss\n",
    "    min_loss_idx = mses.index(min(mses))\n",
    "    model_path = glob(f'{results_base_dir}/{min_loss_idx}/{mode}/*.pt')[0]\n",
    "    \n",
    "    return mses[min_loss_idx], maes[min_loss_idx], corrs[min_loss_idx], model_path"
   ]
  },
  {
   "cell_type": "code",
   "execution_count": null,
   "metadata": {},
   "outputs": [],
   "source": [
    "results_base_dir = 'PATH_TO_RESULTS'"
   ]
  },
  {
   "cell_type": "code",
   "execution_count": null,
   "metadata": {},
   "outputs": [],
   "source": [
    "folds = 8\n",
    "\n",
    "mses = []\n",
    "maes = []\n",
    "corrs = []\n",
    "model_paths = []\n",
    "\n",
    "mode = 'cnn'\n",
    "\n",
    "for i in range(folds):\n",
    "    results_dir = f'{results_base_dir}/fold_{i}'\n",
    "    \n",
    "    mse, mae, corr, model_path = metrics(results_dir, mode=mode)\n",
    "    \n",
    "    mses.append(mse)\n",
    "    maes.append(mae)\n",
    "    corrs.append(corr)\n",
    "    model_paths.append(model_path)\n",
    "    \n",
    "# Create a dataframe\n",
    "df = pd.DataFrame({'mse': mses, 'mae': maes, 'corr': corrs, 'model_path': model_paths})\n",
    "\n",
    "# Save the dataframe\n",
    "df.to_csv(f'{results_base_dir}/{mode}_results.csv', index=False)"
   ]
  },
  {
   "cell_type": "code",
   "execution_count": null,
   "metadata": {},
   "outputs": [],
   "source": []
  }
 ],
 "metadata": {
  "kernelspec": {
   "display_name": "Python 3",
   "language": "python",
   "name": "python3"
  },
  "language_info": {
   "codemirror_mode": {
    "name": "ipython",
    "version": 3
   },
   "file_extension": ".py",
   "mimetype": "text/x-python",
   "name": "python",
   "nbconvert_exporter": "python",
   "pygments_lexer": "ipython3",
   "version": "3.12.3"
  }
 },
 "nbformat": 4,
 "nbformat_minor": 2
}
